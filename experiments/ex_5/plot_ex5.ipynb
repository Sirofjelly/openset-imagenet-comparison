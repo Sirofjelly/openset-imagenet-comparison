{
 "cells": [
  {
   "cell_type": "code",
   "execution_count": 1,
   "metadata": {},
   "outputs": [],
   "source": [
    "import pathlib\n",
    "import os, sys\n",
    "import numpy as np\n",
    "from loguru import logger\n",
    "from collections import defaultdict\n",
    "from openset_imagenet.util import ccr_at_fpr\n",
    "import openset_imagenet\n",
    "from matplotlib import pyplot"
   ]
  },
  {
   "cell_type": "code",
   "execution_count": 2,
   "metadata": {},
   "outputs": [],
   "source": [
    "def load_scores(args):\n",
    "    # we sort them as follows: protocol, loss, algorithm\n",
    "    scores = defaultdict(lambda: defaultdict(dict))\n",
    "    ground_truths = {}\n",
    "    for net in args[\"networks\"]:\n",
    "                output_directory = pathlib.Path(args[\"output_directory\"])\n",
    "                score_file = f\"{net}.npz\"\n",
    "                if os.path.exists(score_file):\n",
    "                    # remember files\n",
    "                    results = np.load(score_file)\n",
    "                    scores[net] = results[\"scores\"] # only change in maxlogits case\n",
    "\n",
    "                    if len(ground_truths) == 0:\n",
    "                        ground_truths = results[\"gt\"].astype(int)\n",
    "                    else:\n",
    "                        assert np.all(results[\"gt\"] == ground_truths)\n",
    "\n",
    "                    logger.info(f\"Loaded score file {score_file} for net {net}\")\n",
    "                else:\n",
    "                    logger.warning(f\"Did not find score file {score_file} for net {net}\")\n",
    "\n",
    "    return scores, ground_truths"
   ]
  },
  {
   "cell_type": "code",
   "execution_count": 3,
   "metadata": {},
   "outputs": [
    {
     "name": "stderr",
     "output_type": "stream",
     "text": [
      "\u001b[32m2024-05-20 22:27:06.531\u001b[0m | \u001b[1mINFO    \u001b[0m | \u001b[36m__main__\u001b[0m:\u001b[36mload_scores\u001b[0m:\u001b[36m18\u001b[0m - \u001b[1mLoaded score file net_4.npz for net net_4\u001b[0m\n",
      "\u001b[32m2024-05-20 22:27:06.534\u001b[0m | \u001b[1mINFO    \u001b[0m | \u001b[36m__main__\u001b[0m:\u001b[36mload_scores\u001b[0m:\u001b[36m18\u001b[0m - \u001b[1mLoaded score file net_5.npz for net net_5\u001b[0m\n",
      "\u001b[32m2024-05-20 22:27:06.538\u001b[0m | \u001b[1mINFO    \u001b[0m | \u001b[36m__main__\u001b[0m:\u001b[36mload_scores\u001b[0m:\u001b[36m18\u001b[0m - \u001b[1mLoaded score file net_6.npz for net net_6\u001b[0m\n",
      "\u001b[32m2024-05-20 22:27:06.542\u001b[0m | \u001b[1mINFO    \u001b[0m | \u001b[36m__main__\u001b[0m:\u001b[36mload_scores\u001b[0m:\u001b[36m18\u001b[0m - \u001b[1mLoaded score file net_7_ep_50.npz for net net_7_ep_50\u001b[0m\n",
      "\u001b[32m2024-05-20 22:27:06.545\u001b[0m | \u001b[1mINFO    \u001b[0m | \u001b[36m__main__\u001b[0m:\u001b[36mload_scores\u001b[0m:\u001b[36m18\u001b[0m - \u001b[1mLoaded score file net_8.npz for net net_8\u001b[0m\n",
      "\u001b[32m2024-05-20 22:27:06.548\u001b[0m | \u001b[1mINFO    \u001b[0m | \u001b[36m__main__\u001b[0m:\u001b[36mload_scores\u001b[0m:\u001b[36m18\u001b[0m - \u001b[1mLoaded score file net_8_best.npz for net net_8_best\u001b[0m\n",
      "\u001b[32m2024-05-20 22:27:06.551\u001b[0m | \u001b[1mINFO    \u001b[0m | \u001b[36m__main__\u001b[0m:\u001b[36mload_scores\u001b[0m:\u001b[36m18\u001b[0m - \u001b[1mLoaded score file net_11.npz for net net_11\u001b[0m\n",
      "\u001b[32m2024-05-20 22:27:06.555\u001b[0m | \u001b[1mINFO    \u001b[0m | \u001b[36m__main__\u001b[0m:\u001b[36mload_scores\u001b[0m:\u001b[36m18\u001b[0m - \u001b[1mLoaded score file net_12.npz for net net_12\u001b[0m\n",
      "\u001b[32m2024-05-20 22:27:06.558\u001b[0m | \u001b[1mINFO    \u001b[0m | \u001b[36m__main__\u001b[0m:\u001b[36mload_scores\u001b[0m:\u001b[36m18\u001b[0m - \u001b[1mLoaded score file net_12_best.npz for net net_12_best\u001b[0m\n",
      "\u001b[32m2024-05-20 22:27:06.562\u001b[0m | \u001b[1mINFO    \u001b[0m | \u001b[36m__main__\u001b[0m:\u001b[36mload_scores\u001b[0m:\u001b[36m18\u001b[0m - \u001b[1mLoaded score file net_13.npz for net net_13\u001b[0m\n"
     ]
    },
    {
     "name": "stdout",
     "output_type": "stream",
     "text": [
      "Network net_4: [0.0006666666666666666, 0.013333333333333334, 0.04466666666666667, 0.16333333333333333] for thresholds dict_values(['$10^{-3}$', '$10^{-2}$', '$10^{-1}$', '$1$'])\n",
      "Network net_5: [0.05266666666666667, 0.09866666666666667, 0.278, 0.528] for thresholds dict_values(['$10^{-3}$', '$10^{-2}$', '$10^{-1}$', '$1$'])\n",
      "Network net_6: [None, 0.11133333333333334, 0.2633333333333333, 0.546] for thresholds dict_values(['$10^{-3}$', '$10^{-2}$', '$10^{-1}$', '$1$'])\n",
      "Network net_7_ep_50: [0.009333333333333334, 0.11133333333333334, 0.30533333333333335, 0.616] for thresholds dict_values(['$10^{-3}$', '$10^{-2}$', '$10^{-1}$', '$1$'])\n",
      "Network net_8: [None, 0.07933333333333334, 0.32866666666666666, 0.6193333333333333] for thresholds dict_values(['$10^{-3}$', '$10^{-2}$', '$10^{-1}$', '$1$'])\n",
      "Network net_8_best: [0.03133333333333333, 0.13533333333333333, 0.38133333333333336, 0.6693333333333333] for thresholds dict_values(['$10^{-3}$', '$10^{-2}$', '$10^{-1}$', '$1$'])\n",
      "Network net_11: [0.016, 0.12333333333333334, 0.3626666666666667, 0.6526666666666666] for thresholds dict_values(['$10^{-3}$', '$10^{-2}$', '$10^{-1}$', '$1$'])\n",
      "Network net_12: [None, 0.108, 0.3413333333333333, 0.6786666666666666] for thresholds dict_values(['$10^{-3}$', '$10^{-2}$', '$10^{-1}$', '$1$'])\n",
      "Network net_12_best: [0.022, 0.10533333333333333, 0.304, 0.612] for thresholds dict_values(['$10^{-3}$', '$10^{-2}$', '$10^{-1}$', '$1$'])\n",
      "Network net_13: [None, None, 0.3393333333333333, 0.666] for thresholds dict_values(['$10^{-3}$', '$10^{-2}$', '$10^{-1}$', '$1$'])\n"
     ]
    }
   ],
   "source": [
    "arguments = { \n",
    "  \"output_directory\": \"experiments/ex_5\",\n",
    "  \"networks\": [\"net_4\", \"net_5\", \"net_6\", \"net_7_ep_50\",\"net_8\", \"net_8_best\", \"net_11\", \"net_12\", \"net_12_best\", \"net_13\"]\n",
    "  }\n",
    "THRESHOLDS = {\n",
    "              1e-3: \"$10^{-3}$\",\n",
    "              1e-2: \"$10^{-2}$\",\n",
    "              1e-1: \"$10^{-1}$\",\n",
    "              1: \"$1$\",\n",
    "}\n",
    "\n",
    "scores, ground_truths = load_scores(arguments)\n",
    "# we get ccr@fpr for each network\n",
    "for net in arguments[\"networks\"]:\n",
    "    ccrs = ccr_at_fpr(ground_truths, scores[net], THRESHOLDS)\n",
    "    print(f\"Network {net}: {ccrs} for thresholds {THRESHOLDS.values()}\")"
   ]
  },
  {
   "cell_type": "code",
   "execution_count": null,
   "metadata": {},
   "outputs": [
    {
     "name": "stderr",
     "output_type": "stream",
     "text": [
      "\u001b[32m2024-05-20 22:27:06.531\u001b[0m | \u001b[1mINFO    \u001b[0m | \u001b[36m__main__\u001b[0m:\u001b[36mload_scores\u001b[0m:\u001b[36m18\u001b[0m - \u001b[1mLoaded score file net_4.npz for net net_4\u001b[0m\n",
      "\u001b[32m2024-05-20 22:27:06.534\u001b[0m | \u001b[1mINFO    \u001b[0m | \u001b[36m__main__\u001b[0m:\u001b[36mload_scores\u001b[0m:\u001b[36m18\u001b[0m - \u001b[1mLoaded score file net_5.npz for net net_5\u001b[0m\n",
      "\u001b[32m2024-05-20 22:27:06.538\u001b[0m | \u001b[1mINFO    \u001b[0m | \u001b[36m__main__\u001b[0m:\u001b[36mload_scores\u001b[0m:\u001b[36m18\u001b[0m - \u001b[1mLoaded score file net_6.npz for net net_6\u001b[0m\n",
      "\u001b[32m2024-05-20 22:27:06.542\u001b[0m | \u001b[1mINFO    \u001b[0m | \u001b[36m__main__\u001b[0m:\u001b[36mload_scores\u001b[0m:\u001b[36m18\u001b[0m - \u001b[1mLoaded score file net_7_ep_50.npz for net net_7_ep_50\u001b[0m\n",
      "\u001b[32m2024-05-20 22:27:06.545\u001b[0m | \u001b[1mINFO    \u001b[0m | \u001b[36m__main__\u001b[0m:\u001b[36mload_scores\u001b[0m:\u001b[36m18\u001b[0m - \u001b[1mLoaded score file net_8.npz for net net_8\u001b[0m\n",
      "\u001b[32m2024-05-20 22:27:06.548\u001b[0m | \u001b[1mINFO    \u001b[0m | \u001b[36m__main__\u001b[0m:\u001b[36mload_scores\u001b[0m:\u001b[36m18\u001b[0m - \u001b[1mLoaded score file net_8_best.npz for net net_8_best\u001b[0m\n",
      "\u001b[32m2024-05-20 22:27:06.551\u001b[0m | \u001b[1mINFO    \u001b[0m | \u001b[36m__main__\u001b[0m:\u001b[36mload_scores\u001b[0m:\u001b[36m18\u001b[0m - \u001b[1mLoaded score file net_11.npz for net net_11\u001b[0m\n",
      "\u001b[32m2024-05-20 22:27:06.555\u001b[0m | \u001b[1mINFO    \u001b[0m | \u001b[36m__main__\u001b[0m:\u001b[36mload_scores\u001b[0m:\u001b[36m18\u001b[0m - \u001b[1mLoaded score file net_12.npz for net net_12\u001b[0m\n",
      "\u001b[32m2024-05-20 22:27:06.558\u001b[0m | \u001b[1mINFO    \u001b[0m | \u001b[36m__main__\u001b[0m:\u001b[36mload_scores\u001b[0m:\u001b[36m18\u001b[0m - \u001b[1mLoaded score file net_12_best.npz for net net_12_best\u001b[0m\n",
      "\u001b[32m2024-05-20 22:27:06.562\u001b[0m | \u001b[1mINFO    \u001b[0m | \u001b[36m__main__\u001b[0m:\u001b[36mload_scores\u001b[0m:\u001b[36m18\u001b[0m - \u001b[1mLoaded score file net_13.npz for net net_13\u001b[0m\n"
     ]
    },
    {
     "name": "stdout",
     "output_type": "stream",
     "text": [
      "Network net_4: [0.0006666666666666666, 0.013333333333333334, 0.04466666666666667, 0.16333333333333333] for thresholds dict_values(['$10^{-3}$', '$10^{-2}$', '$10^{-1}$', '$1$'])\n",
      "Network net_5: [0.05266666666666667, 0.09866666666666667, 0.278, 0.528] for thresholds dict_values(['$10^{-3}$', '$10^{-2}$', '$10^{-1}$', '$1$'])\n",
      "Network net_6: [None, 0.11133333333333334, 0.2633333333333333, 0.546] for thresholds dict_values(['$10^{-3}$', '$10^{-2}$', '$10^{-1}$', '$1$'])\n",
      "Network net_7_ep_50: [0.009333333333333334, 0.11133333333333334, 0.30533333333333335, 0.616] for thresholds dict_values(['$10^{-3}$', '$10^{-2}$', '$10^{-1}$', '$1$'])\n",
      "Network net_8: [None, 0.07933333333333334, 0.32866666666666666, 0.6193333333333333] for thresholds dict_values(['$10^{-3}$', '$10^{-2}$', '$10^{-1}$', '$1$'])\n",
      "Network net_8_best: [0.03133333333333333, 0.13533333333333333, 0.38133333333333336, 0.6693333333333333] for thresholds dict_values(['$10^{-3}$', '$10^{-2}$', '$10^{-1}$', '$1$'])\n",
      "Network net_11: [0.016, 0.12333333333333334, 0.3626666666666667, 0.6526666666666666] for thresholds dict_values(['$10^{-3}$', '$10^{-2}$', '$10^{-1}$', '$1$'])\n",
      "Network net_12: [None, 0.108, 0.3413333333333333, 0.6786666666666666] for thresholds dict_values(['$10^{-3}$', '$10^{-2}$', '$10^{-1}$', '$1$'])\n",
      "Network net_12_best: [0.022, 0.10533333333333333, 0.304, 0.612] for thresholds dict_values(['$10^{-3}$', '$10^{-2}$', '$10^{-1}$', '$1$'])\n",
      "Network net_13: [None, None, 0.3393333333333333, 0.666] for thresholds dict_values(['$10^{-3}$', '$10^{-2}$', '$10^{-1}$', '$1$'])\n"
     ]
    }
   ],
   "source": [
    "arguments = { \n",
    "  \"output_directory\": \"experiments/ex_5\",\n",
    "  \"networks\": [\"net_4\", \"net_5\", \"net_6\", \"net_7_ep_50\",\"net_8\", \"net_8_best\", \"net_11\", \"net_12\", \"net_12_best\", \"net_13\"]\n",
    "  }\n",
    "THRESHOLDS = {\n",
    "              1e-3: \"$10^{-3}$\",\n",
    "              1e-2: \"$10^{-2}$\",\n",
    "              1e-1: \"$10^{-1}$\",\n",
    "              1: \"$1$\",\n",
    "}\n",
    "\n",
    "scores, ground_truths = load_scores(arguments)\n",
    "# we get ccr@fpr for each network\n",
    "for net in arguments[\"networks\"]:\n",
    "    ccrs = ccr_at_fpr(ground_truths, scores[net], THRESHOLDS)\n",
    "    print(f\"Network {net}: {ccrs} for thresholds {THRESHOLDS.values()}\")"
   ]
  }
 ],
 "metadata": {
  "kernelspec": {
   "display_name": "openset-imagenet-comparison",
   "language": "python",
   "name": "python3"
  },
  "language_info": {
   "codemirror_mode": {
    "name": "ipython",
    "version": 3
   },
   "file_extension": ".py",
   "mimetype": "text/x-python",
   "name": "python",
   "nbconvert_exporter": "python",
   "pygments_lexer": "ipython3",
   "version": "3.8.18"
  }
 },
 "nbformat": 4,
 "nbformat_minor": 2
}
