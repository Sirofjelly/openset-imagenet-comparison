{
 "cells": [
  {
   "cell_type": "code",
   "execution_count": 20,
   "metadata": {},
   "outputs": [],
   "source": [
    "import pathlib\n",
    "import os, sys\n",
    "import numpy as np\n",
    "from loguru import logger\n",
    "from collections import defaultdict\n",
    "from openset_imagenet.util import ccr_at_fpr\n",
    "import openset_imagenet\n",
    "from matplotlib import pyplot"
   ]
  },
  {
   "cell_type": "code",
   "execution_count": 21,
   "metadata": {},
   "outputs": [],
   "source": [
    "def load_scores(args):\n",
    "    # we sort them as follows: protocol, loss, algorithm\n",
    "    scores = defaultdict(lambda: defaultdict(dict))\n",
    "    ground_truths = {}\n",
    "    for net in args[\"networks\"]:\n",
    "                output_directory = pathlib.Path(args[\"output_directory\"])\n",
    "                score_file = f\"{net}.npz\"\n",
    "                if os.path.exists(score_file):\n",
    "                    # remember files\n",
    "                    results = np.load(score_file)\n",
    "                    scores[net] = results[\"scores\"] # only change in maxlogits case\n",
    "\n",
    "                    if len(ground_truths) == 0:\n",
    "                        ground_truths = results[\"gt\"].astype(int)\n",
    "                    else:\n",
    "                        assert np.all(results[\"gt\"] == ground_truths)\n",
    "\n",
    "                    logger.info(f\"Loaded score file {score_file} for net {net}\")\n",
    "                else:\n",
    "                    logger.warning(f\"Did not find score file {score_file} for net {net}\")\n",
    "\n",
    "    return scores, ground_truths"
   ]
  },
  {
   "cell_type": "code",
   "execution_count": 31,
   "metadata": {},
   "outputs": [
    {
     "name": "stderr",
     "output_type": "stream",
     "text": [
      "\u001b[32m2024-05-08 13:34:18.946\u001b[0m | \u001b[1mINFO    \u001b[0m | \u001b[36m__main__\u001b[0m:\u001b[36mload_scores\u001b[0m:\u001b[36m18\u001b[0m - \u001b[1mLoaded score file net_1.npz for net net_1\u001b[0m\n",
      "\u001b[32m2024-05-08 13:34:18.951\u001b[0m | \u001b[1mINFO    \u001b[0m | \u001b[36m__main__\u001b[0m:\u001b[36mload_scores\u001b[0m:\u001b[36m18\u001b[0m - \u001b[1mLoaded score file net_2.npz for net net_2\u001b[0m\n",
      "\u001b[32m2024-05-08 13:34:18.955\u001b[0m | \u001b[1mINFO    \u001b[0m | \u001b[36m__main__\u001b[0m:\u001b[36mload_scores\u001b[0m:\u001b[36m18\u001b[0m - \u001b[1mLoaded score file net_3.npz for net net_3\u001b[0m\n",
      "\u001b[32m2024-05-08 13:34:18.958\u001b[0m | \u001b[1mINFO    \u001b[0m | \u001b[36m__main__\u001b[0m:\u001b[36mload_scores\u001b[0m:\u001b[36m18\u001b[0m - \u001b[1mLoaded score file net_4.npz for net net_4\u001b[0m\n",
      "\u001b[32m2024-05-08 13:34:18.960\u001b[0m | \u001b[1mINFO    \u001b[0m | \u001b[36m__main__\u001b[0m:\u001b[36mload_scores\u001b[0m:\u001b[36m18\u001b[0m - \u001b[1mLoaded score file net_5.npz for net net_5\u001b[0m\n",
      "\u001b[32m2024-05-08 13:34:18.963\u001b[0m | \u001b[1mINFO    \u001b[0m | \u001b[36m__main__\u001b[0m:\u001b[36mload_scores\u001b[0m:\u001b[36m18\u001b[0m - \u001b[1mLoaded score file net_6.npz for net net_6\u001b[0m\n"
     ]
    },
    {
     "name": "stdout",
     "output_type": "stream",
     "text": [
      "Network net_1: [0.0009, 0.0354, 0.5452, 0.9853] for thresholds dict_values(['$10^{-3}$', '$10^{-2}$', '$10^{-1}$', '$1$'])\n",
      "Network net_2: [None, None, 0.5214, 0.9865] for thresholds dict_values(['$10^{-3}$', '$10^{-2}$', '$10^{-1}$', '$1$'])\n",
      "Network net_3: [0.0005, 0.0384, 0.5198, 0.9872] for thresholds dict_values(['$10^{-3}$', '$10^{-2}$', '$10^{-1}$', '$1$'])\n",
      "Network net_4: [None, 0.0276, 0.4914, 0.9866] for thresholds dict_values(['$10^{-3}$', '$10^{-2}$', '$10^{-1}$', '$1$'])\n",
      "Network net_5: [0.003, 0.04, 0.5076, 0.9875] for thresholds dict_values(['$10^{-3}$', '$10^{-2}$', '$10^{-1}$', '$1$'])\n",
      "Network net_6: [0.0001, 0.0206, 0.5401, 0.9871] for thresholds dict_values(['$10^{-3}$', '$10^{-2}$', '$10^{-1}$', '$1$'])\n"
     ]
    }
   ],
   "source": [
    "arguments = { \n",
    "  \"output_directory\": \"experiments/ex_1\",\n",
    "  \"networks\": [\"net_1\", \"net_2\", \"net_3\", \"net_4\", \"net_5\", \"net_6\"]\n",
    "  }\n",
    "THRESHOLDS = {\n",
    "              1e-3: \"$10^{-3}$\",\n",
    "              1e-2: \"$10^{-2}$\",\n",
    "              1e-1: \"$10^{-1}$\",\n",
    "              1: \"$1$\",\n",
    "}\n",
    "\n",
    "scores, ground_truths = load_scores(arguments)\n",
    "# we get ccr@fpr for each network\n",
    "for net in arguments[\"networks\"]:\n",
    "    ccrs = ccr_at_fpr(ground_truths, scores[net], THRESHOLDS)\n",
    "    print(f\"Network {net}: {ccrs} for thresholds {THRESHOLDS.values()}\")"
   ]
  },
  {
   "cell_type": "code",
   "execution_count": null,
   "metadata": {},
   "outputs": [],
   "source": []
  },
  {
   "cell_type": "code",
   "execution_count": null,
   "metadata": {},
   "outputs": [],
   "source": []
  }
 ],
 "metadata": {
  "kernelspec": {
   "display_name": "openset-imagenet-comparison",
   "language": "python",
   "name": "python3"
  },
  "language_info": {
   "codemirror_mode": {
    "name": "ipython",
    "version": 3
   },
   "file_extension": ".py",
   "mimetype": "text/x-python",
   "name": "python",
   "nbconvert_exporter": "python",
   "pygments_lexer": "ipython3",
   "version": "3.8.18"
  }
 },
 "nbformat": 4,
 "nbformat_minor": 2
}
