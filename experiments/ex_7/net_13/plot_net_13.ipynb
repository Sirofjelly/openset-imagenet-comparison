{
 "cells": [
  {
   "cell_type": "code",
   "execution_count": 13,
   "metadata": {},
   "outputs": [],
   "source": [
    "import pathlib\n",
    "import os, sys\n",
    "import numpy as np\n",
    "from loguru import logger\n",
    "from collections import defaultdict\n",
    "from openset_imagenet.util import ccr_at_fpr\n",
    "import openset_imagenet\n",
    "from matplotlib import pyplot"
   ]
  },
  {
   "cell_type": "code",
   "execution_count": 14,
   "metadata": {},
   "outputs": [],
   "source": [
    "def load_scores(args):\n",
    "    # we sort them as follows: protocol, loss, algorithm\n",
    "    scores = defaultdict(lambda: defaultdict(dict))\n",
    "    ground_truths = {}\n",
    "    for net in args[\"networks\"]:\n",
    "                output_directory = pathlib.Path(args[\"output_directory\"])\n",
    "                score_file = f\"{net}.npz\"\n",
    "                if os.path.exists(score_file):\n",
    "                    # remember files\n",
    "                    results = np.load(score_file)\n",
    "                    scores[net] = results[\"scores\"] # only change in maxlogits case\n",
    "\n",
    "                    if len(ground_truths) == 0:\n",
    "                        ground_truths = results[\"gt\"].astype(int)\n",
    "                    else:\n",
    "                        assert np.all(results[\"gt\"] == ground_truths)\n",
    "\n",
    "                    logger.info(f\"Loaded score file {score_file} for net {net}\")\n",
    "                else:\n",
    "                    logger.warning(f\"Did not find score file {score_file} for net {net}\")\n",
    "\n",
    "    return scores, ground_truths"
   ]
  },
  {
   "cell_type": "code",
   "execution_count": 15,
   "metadata": {},
   "outputs": [
    {
     "name": "stderr",
     "output_type": "stream",
     "text": [
      "\u001b[32m2024-06-18 09:08:31.673\u001b[0m | \u001b[1mINFO    \u001b[0m | \u001b[36m__main__\u001b[0m:\u001b[36mload_scores\u001b[0m:\u001b[36m18\u001b[0m - \u001b[1mLoaded score file net_13.npz for net net_13\u001b[0m\n"
     ]
    },
    {
     "name": "stdout",
     "output_type": "stream",
     "text": [
      "Network net_13: [None, 0.14933333333333335, 0.38466666666666666, 0.6193333333333333] for thresholds dict_values(['$10^{-3}$', '$10^{-2}$', '$10^{-1}$', '$1$'])\n"
     ]
    }
   ],
   "source": [
    "arguments = { \n",
    "  \"output_directory\": \"experiments/ex_7/net_13\",\n",
    "  \"networks\": [\"net_13\"]\n",
    "  }\n",
    "THRESHOLDS = {\n",
    "              1e-3: \"$10^{-3}$\",\n",
    "              1e-2: \"$10^{-2}$\",\n",
    "              1e-1: \"$10^{-1}$\",\n",
    "              1: \"$1$\",\n",
    "}\n",
    "\n",
    "scores, ground_truths = load_scores(arguments)\n",
    "# we get ccr@fpr for each network\n",
    "for net in arguments[\"networks\"]:\n",
    "    ccrs = ccr_at_fpr(ground_truths, scores[net], THRESHOLDS, unk_label=-2)\n",
    "    print(f\"Network {net}: {ccrs} for thresholds {THRESHOLDS.values()}\")"
   ]
  }
 ],
 "metadata": {
  "kernelspec": {
   "display_name": "openset-imagenet-comparison",
   "language": "python",
   "name": "python3"
  },
  "language_info": {
   "codemirror_mode": {
    "name": "ipython",
    "version": 3
   },
   "file_extension": ".py",
   "mimetype": "text/x-python",
   "name": "python",
   "nbconvert_exporter": "python",
   "pygments_lexer": "ipython3",
   "version": "3.8.18"
  }
 },
 "nbformat": 4,
 "nbformat_minor": 2
}
